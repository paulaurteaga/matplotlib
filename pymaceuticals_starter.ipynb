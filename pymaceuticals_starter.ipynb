{
 "cells": [
  {
   "cell_type": "markdown",
   "metadata": {},
   "source": [
    "## Observations and Insights"
   ]
  },
  {
   "cell_type": "markdown",
   "metadata": {},
   "source": []
  },
  {
   "cell_type": "markdown",
   "metadata": {},
   "source": [
    "## Dependencies and starter code"
   ]
  },
  {
   "cell_type": "code",
   "execution_count": 2,
   "metadata": {},
   "outputs": [
    {
     "data": {
      "text/html": [
       "<div>\n",
       "<style scoped>\n",
       "    .dataframe tbody tr th:only-of-type {\n",
       "        vertical-align: middle;\n",
       "    }\n",
       "\n",
       "    .dataframe tbody tr th {\n",
       "        vertical-align: top;\n",
       "    }\n",
       "\n",
       "    .dataframe thead th {\n",
       "        text-align: right;\n",
       "    }\n",
       "</style>\n",
       "<table border=\"1\" class=\"dataframe\">\n",
       "  <thead>\n",
       "    <tr style=\"text-align: right;\">\n",
       "      <th></th>\n",
       "      <th>Mouse ID</th>\n",
       "      <th>Drug Regimen</th>\n",
       "      <th>Sex</th>\n",
       "      <th>Age_months</th>\n",
       "      <th>Weight (g)</th>\n",
       "      <th>Timepoint</th>\n",
       "      <th>Tumor Volume (mm3)</th>\n",
       "      <th>Metastatic Sites</th>\n",
       "    </tr>\n",
       "  </thead>\n",
       "  <tbody>\n",
       "    <tr>\n",
       "      <td>0</td>\n",
       "      <td>k403</td>\n",
       "      <td>Ramicane</td>\n",
       "      <td>Male</td>\n",
       "      <td>21</td>\n",
       "      <td>16</td>\n",
       "      <td>0</td>\n",
       "      <td>45.000000</td>\n",
       "      <td>0</td>\n",
       "    </tr>\n",
       "    <tr>\n",
       "      <td>1</td>\n",
       "      <td>k403</td>\n",
       "      <td>Ramicane</td>\n",
       "      <td>Male</td>\n",
       "      <td>21</td>\n",
       "      <td>16</td>\n",
       "      <td>5</td>\n",
       "      <td>38.825898</td>\n",
       "      <td>0</td>\n",
       "    </tr>\n",
       "    <tr>\n",
       "      <td>2</td>\n",
       "      <td>k403</td>\n",
       "      <td>Ramicane</td>\n",
       "      <td>Male</td>\n",
       "      <td>21</td>\n",
       "      <td>16</td>\n",
       "      <td>10</td>\n",
       "      <td>35.014271</td>\n",
       "      <td>1</td>\n",
       "    </tr>\n",
       "    <tr>\n",
       "      <td>3</td>\n",
       "      <td>k403</td>\n",
       "      <td>Ramicane</td>\n",
       "      <td>Male</td>\n",
       "      <td>21</td>\n",
       "      <td>16</td>\n",
       "      <td>15</td>\n",
       "      <td>34.223992</td>\n",
       "      <td>1</td>\n",
       "    </tr>\n",
       "    <tr>\n",
       "      <td>4</td>\n",
       "      <td>k403</td>\n",
       "      <td>Ramicane</td>\n",
       "      <td>Male</td>\n",
       "      <td>21</td>\n",
       "      <td>16</td>\n",
       "      <td>20</td>\n",
       "      <td>32.997729</td>\n",
       "      <td>1</td>\n",
       "    </tr>\n",
       "  </tbody>\n",
       "</table>\n",
       "</div>"
      ],
      "text/plain": [
       "  Mouse ID Drug Regimen   Sex  Age_months  Weight (g)  Timepoint  \\\n",
       "0     k403     Ramicane  Male          21          16          0   \n",
       "1     k403     Ramicane  Male          21          16          5   \n",
       "2     k403     Ramicane  Male          21          16         10   \n",
       "3     k403     Ramicane  Male          21          16         15   \n",
       "4     k403     Ramicane  Male          21          16         20   \n",
       "\n",
       "   Tumor Volume (mm3)  Metastatic Sites  \n",
       "0           45.000000                 0  \n",
       "1           38.825898                 0  \n",
       "2           35.014271                 1  \n",
       "3           34.223992                 1  \n",
       "4           32.997729                 1  "
      ]
     },
     "execution_count": 2,
     "metadata": {},
     "output_type": "execute_result"
    }
   ],
   "source": [
    "# Dependencies and Setup\n",
    "import matplotlib.pyplot as plt\n",
    "import pandas as pd\n",
    "import scipy.stats as st\n",
    "from scipy.stats import sem\n",
    "import numpy as np\n",
    "from scipy.stats import linregress\n",
    "\n",
    "# Study data files\n",
    "mouse_metadata = \"data/Mouse_metadata.csv\"\n",
    "study_results = \"data/Study_results.csv\"\n",
    "\n",
    "# Read the mouse data and the study results\n",
    "mouse_metadata = pd.read_csv(mouse_metadata)\n",
    "study_results = pd.read_csv(study_results)\n",
    "\n",
    "# Combine the data into a single dataset\n",
    "merged=pd.merge(mouse_metadata,study_results, on='Mouse ID')\n",
    "merged.head()"
   ]
  },
  {
   "cell_type": "markdown",
   "metadata": {},
   "source": [
    "## Summary statistics"
   ]
  },
  {
   "cell_type": "code",
   "execution_count": 3,
   "metadata": {},
   "outputs": [
    {
     "data": {
      "text/html": [
       "<div>\n",
       "<style scoped>\n",
       "    .dataframe tbody tr th:only-of-type {\n",
       "        vertical-align: middle;\n",
       "    }\n",
       "\n",
       "    .dataframe tbody tr th {\n",
       "        vertical-align: top;\n",
       "    }\n",
       "\n",
       "    .dataframe thead th {\n",
       "        text-align: right;\n",
       "    }\n",
       "</style>\n",
       "<table border=\"1\" class=\"dataframe\">\n",
       "  <thead>\n",
       "    <tr style=\"text-align: right;\">\n",
       "      <th></th>\n",
       "      <th>Mean</th>\n",
       "      <th>median</th>\n",
       "      <th>variance</th>\n",
       "      <th>Standar devition</th>\n",
       "      <th>SEM</th>\n",
       "    </tr>\n",
       "    <tr>\n",
       "      <th>Drug Regimen</th>\n",
       "      <th></th>\n",
       "      <th></th>\n",
       "      <th></th>\n",
       "      <th></th>\n",
       "      <th></th>\n",
       "    </tr>\n",
       "  </thead>\n",
       "  <tbody>\n",
       "    <tr>\n",
       "      <td>Capomulin</td>\n",
       "      <td>40.675741</td>\n",
       "      <td>41.557809</td>\n",
       "      <td>24.947764</td>\n",
       "      <td>4.994774</td>\n",
       "      <td>0.329346</td>\n",
       "    </tr>\n",
       "    <tr>\n",
       "      <td>Ceftamin</td>\n",
       "      <td>52.591172</td>\n",
       "      <td>51.776157</td>\n",
       "      <td>39.290177</td>\n",
       "      <td>6.268188</td>\n",
       "      <td>0.469821</td>\n",
       "    </tr>\n",
       "    <tr>\n",
       "      <td>Infubinol</td>\n",
       "      <td>52.884795</td>\n",
       "      <td>51.820584</td>\n",
       "      <td>43.128684</td>\n",
       "      <td>6.567243</td>\n",
       "      <td>0.492236</td>\n",
       "    </tr>\n",
       "    <tr>\n",
       "      <td>Ketapril</td>\n",
       "      <td>55.235638</td>\n",
       "      <td>53.698743</td>\n",
       "      <td>68.553577</td>\n",
       "      <td>8.279709</td>\n",
       "      <td>0.603860</td>\n",
       "    </tr>\n",
       "    <tr>\n",
       "      <td>Naftisol</td>\n",
       "      <td>54.331565</td>\n",
       "      <td>52.509285</td>\n",
       "      <td>66.173479</td>\n",
       "      <td>8.134708</td>\n",
       "      <td>0.596466</td>\n",
       "    </tr>\n",
       "    <tr>\n",
       "      <td>Placebo</td>\n",
       "      <td>54.033581</td>\n",
       "      <td>52.288934</td>\n",
       "      <td>61.168083</td>\n",
       "      <td>7.821003</td>\n",
       "      <td>0.581331</td>\n",
       "    </tr>\n",
       "    <tr>\n",
       "      <td>Propriva</td>\n",
       "      <td>52.322552</td>\n",
       "      <td>50.854632</td>\n",
       "      <td>42.351070</td>\n",
       "      <td>6.507770</td>\n",
       "      <td>0.512884</td>\n",
       "    </tr>\n",
       "    <tr>\n",
       "      <td>Ramicane</td>\n",
       "      <td>40.216745</td>\n",
       "      <td>40.673236</td>\n",
       "      <td>23.486704</td>\n",
       "      <td>4.846308</td>\n",
       "      <td>0.320955</td>\n",
       "    </tr>\n",
       "    <tr>\n",
       "      <td>Stelasyn</td>\n",
       "      <td>54.233149</td>\n",
       "      <td>52.431737</td>\n",
       "      <td>59.450562</td>\n",
       "      <td>7.710419</td>\n",
       "      <td>0.573111</td>\n",
       "    </tr>\n",
       "    <tr>\n",
       "      <td>Zoniferol</td>\n",
       "      <td>53.236507</td>\n",
       "      <td>51.818479</td>\n",
       "      <td>48.533355</td>\n",
       "      <td>6.966589</td>\n",
       "      <td>0.516398</td>\n",
       "    </tr>\n",
       "  </tbody>\n",
       "</table>\n",
       "</div>"
      ],
      "text/plain": [
       "                   Mean     median   variance  Standar devition       SEM\n",
       "Drug Regimen                                                             \n",
       "Capomulin     40.675741  41.557809  24.947764          4.994774  0.329346\n",
       "Ceftamin      52.591172  51.776157  39.290177          6.268188  0.469821\n",
       "Infubinol     52.884795  51.820584  43.128684          6.567243  0.492236\n",
       "Ketapril      55.235638  53.698743  68.553577          8.279709  0.603860\n",
       "Naftisol      54.331565  52.509285  66.173479          8.134708  0.596466\n",
       "Placebo       54.033581  52.288934  61.168083          7.821003  0.581331\n",
       "Propriva      52.322552  50.854632  42.351070          6.507770  0.512884\n",
       "Ramicane      40.216745  40.673236  23.486704          4.846308  0.320955\n",
       "Stelasyn      54.233149  52.431737  59.450562          7.710419  0.573111\n",
       "Zoniferol     53.236507  51.818479  48.533355          6.966589  0.516398"
      ]
     },
     "execution_count": 3,
     "metadata": {},
     "output_type": "execute_result"
    }
   ],
   "source": [
    "# Generate a summary statistics table of mean, median, ariance, standard deviation, and SEM of the tumor volume for each regimen\n",
    "grouped=merged.groupby('Drug Regimen')\n",
    "mean=grouped['Tumor Volume (mm3)'].mean()\n",
    "median=grouped['Tumor Volume (mm3)'].median()\n",
    "variance=grouped['Tumor Volume (mm3)'].var()\n",
    "stDev=grouped['Tumor Volume (mm3)'].std()\n",
    "sem=grouped['Tumor Volume (mm3)'].sem()\n",
    "dic={'Mean': mean, 'median': median, 'variance': variance, 'Standar devition': stDev, 'SEM': sem}\n",
    "summary=pd.DataFrame(dic)\n",
    "summary\n"
   ]
  },
  {
   "cell_type": "markdown",
   "metadata": {},
   "source": [
    "## Bar plots"
   ]
  },
  {
   "cell_type": "code",
   "execution_count": 4,
   "metadata": {},
   "outputs": [
    {
     "data": {
      "text/plain": [
       "Text(0, 0.5, 'Number of data points')"
      ]
     },
     "execution_count": 4,
     "metadata": {},
     "output_type": "execute_result"
    },
    {
     "data": {
      "image/png": "[encoded data removed]",
      "text/plain": [
       "<Figure size 720x504 with 1 Axes>"
      ]
     },
     "metadata": {
      "needs_background": "light"
     },
     "output_type": "display_data"
    }
   ],
   "source": [
    "# Generate a bar plot showing number of data points for each treatment regimen using pandas\n",
    "number_points=grouped['Drug Regimen'].count()\n",
    "regimens=summary.index\n",
    "dic={'Regimens': regimens, \"Data points\": number_points}\n",
    "graph=pd.DataFrame(dic)\n",
    "ax=graph.plot(kind='bar', figsize=(10,7), rot=0,width=0.75,title='Number of data points per treatment regimen', legend=True)\n",
    "ax.set_xlabel(\"Treatment regimens\")\n",
    "ax.set_ylabel(\"Number of data points\")\n"
   ]
  },
  {
   "cell_type": "code",
   "execution_count": 5,
   "metadata": {},
   "outputs": [
    {
     "data": {
      "text/plain": [
       "<matplotlib.legend.Legend at 0x1a1d518f90>"
      ]
     },
     "execution_count": 5,
     "metadata": {},
     "output_type": "execute_result"
    },
    {
     "data": {
      "image/png": "[encoded data removed]",
      "text/plain": [
       "<Figure size 720x504 with 1 Axes>"
      ]
     },
     "metadata": {
      "needs_background": "light"
     },
     "output_type": "display_data"
    }
   ],
   "source": [
    "# Generate a bar plot showing number of data points for each treatment regimen using pyplot\n",
    "number_points=grouped['Drug Regimen'].count()\n",
    "regimens=summary.index\n",
    "plt.figure(figsize=(10,7))\n",
    "plt.bar(regimens, number_points)\n",
    "plt.title('Number of data points per treatment regimen')\n",
    "plt.xlabel(\"Treatment regimens\")\n",
    "plt.ylabel(\"Number of data points\")\n",
    "plt.legend(['Data points'])"
   ]
  },
  {
   "cell_type": "markdown",
   "metadata": {},
   "source": [
    "## Pie plots"
   ]
  },
  {
   "cell_type": "code",
   "execution_count": 94,
   "metadata": {},
   "outputs": [
    {
     "data": {
      "text/plain": [
       "<matplotlib.legend.Legend at 0x1a25612390>"
      ]
     },
     "execution_count": 94,
     "metadata": {},
     "output_type": "execute_result"
    },
    {
     "data": {
      "image/png": "[encoded data removed]",
      "text/plain": [
       "<Figure size 432x288 with 1 Axes>"
      ]
     },
     "metadata": {},
     "output_type": "display_data"
    }
   ],
   "source": [
    "# Generate a pie plot showing the distribution of female versus male mice using pandas\n",
    "grouped=merged.groupby('Sex')\n",
    "count=grouped['Mouse ID'].nunique()\n",
    "ax=count.plot(kind='pie', legend=True, title='Female vs Male mice distribution', autopct='%2.0f%%')\n",
    "ax.legend(loc='lower right')"
   ]
  },
  {
   "cell_type": "code",
   "execution_count": 97,
   "metadata": {},
   "outputs": [
    {
     "data": {
      "text/plain": [
       "<matplotlib.legend.Legend at 0x1a25423f10>"
      ]
     },
     "execution_count": 97,
     "metadata": {},
     "output_type": "execute_result"
    },
    {
     "data": {
      "image/png": "[encoded data removed]",
      "text/plain": [
       "<Figure size 432x288 with 1 Axes>"
      ]
     },
     "metadata": {},
     "output_type": "display_data"
    }
   ],
   "source": [
    "# Generate a pie plot showing the distribution of female versus male mice using pyplot\n",
    "plt.pie(count,labels=count.index, autopct='%1.1f%%')\n",
    "plt.title('Female vs Male mice distribution')\n",
    "plt.legend(count.index, loc='lower right')"
   ]
  },
  {
   "cell_type": "markdown",
   "metadata": {},
   "source": [
    "## Quartiles, outliers and boxplots"
   ]
  },
  {
   "cell_type": "code",
   "execution_count": 98,
   "metadata": {},
   "outputs": [],
   "source": [
    "max_tumor = merged.groupby([\"Mouse ID\"]).max()\n",
    "max_tumor = max_tumor.reset_index()\n",
    "\n",
    "# Merge this group df with the original dataframe to get the tumor volume at the last timepoint\n",
    "merged_data = max_tumor[['Mouse ID','Timepoint']].merge(merged,on=['Mouse ID','Timepoint'],how=\"left\")\n",
    "capomulin = merged_data.loc[merged_data[\"Drug Regimen\"] == \"Capomulin\"]['Tumor Volume (mm3)'] \n",
    "ramicane = merged_data.loc[merged_data[\"Drug Regimen\"] == \"Ramicane\"]['Tumor Volume (mm3)'] \n",
    "infubinol = merged_data.loc[merged_data[\"Drug Regimen\"] == \"Infubinol\"]['Tumor Volume (mm3)'] \n",
    "ceftamin = merged_data.loc[merged_data[\"Drug Regimen\"] == \"Ceftamin\"]['Tumor Volume (mm3)'] \n"
   ]
  },
  {
   "cell_type": "code",
   "execution_count": 99,
   "metadata": {},
   "outputs": [],
   "source": [
    "#change column orders\n",
    "max_tumor=max_tumor[['Mouse ID','Timepoint', 'Tumor Volume (mm3)', 'Metastatic Sites','Drug Regimen', 'Sex', 'Age_months', 'Weight (g)']]"
   ]
  },
  {
   "cell_type": "code",
   "execution_count": 100,
   "metadata": {},
   "outputs": [
    {
     "name": "stdout",
     "output_type": "stream",
     "text": [
      "The lower quartile of avg tumor volume is: 32.38\n",
      "The upper quartile of avg tumor volume is: 40.16\n",
      "The interquartile range of avg tumor volume is: 7.78\n",
      "The the median of avg tumor volume is: 38.13 \n",
      "Values below 20.7 could be outliers.\n",
      "Values above 51.83 could be outliers.\n"
     ]
    }
   ],
   "source": [
    "# Calculate the IQR and quantitatively determine if there are any potential outliers. grouped=merged.groupby(['Drug Regimen','Mouse ID'])\n",
    "#First Capomulin regimen\n",
    "cap_quartiles = capomulin.quantile([.25,.5,.75])\n",
    "cap_lowerq = cap_quartiles[0.25]\n",
    "cap_upperq = cap_quartiles[0.75]\n",
    "cap_iqr = cap_upperq-cap_lowerq\n",
    "cap_lower_bound = cap_lowerq - (1.5*cap_iqr)\n",
    "cap_upper_bound = cap_upperq + (1.5*cap_iqr)\n",
    "print(f\"The lower quartile of avg tumor volume is: {round(cap_lowerq,2)}\")\n",
    "print(f\"The upper quartile of avg tumor volume is: {round(cap_upperq,2)}\")\n",
    "print(f\"The interquartile range of avg tumor volume is: {round(cap_iqr,2)}\")\n",
    "print(f\"The the median of avg tumor volume is: {round(cap_quartiles[0.5],2)} \")\n",
    "\n",
    "lower_bound = cap_lowerq - (1.5*cap_iqr)\n",
    "upper_bound = cap_upperq + (1.5*cap_iqr)\n",
    "print(f\"Values below {round(cap_lower_bound,2)} could be outliers.\")\n",
    "print(f\"Values above {round(cap_upper_bound,2)} could be outliers.\")"
   ]
  },
  {
   "cell_type": "code",
   "execution_count": 101,
   "metadata": {},
   "outputs": [
    {
     "name": "stdout",
     "output_type": "stream",
     "text": [
      "The lower quartile of avg tumor volume is: 31.56\n",
      "The upper quartile of avg tumor volume is: 40.66\n",
      "The interquartile range of avg tumor volume is: 9.1\n",
      "The the median of avg tumor volume is: 36.56 \n",
      "Values below 17.91 could be outliers.\n",
      "Values above 54.31 could be outliers.\n"
     ]
    }
   ],
   "source": [
    "# Calculate the IQR and quantitatively determine if there are any potential outliers\n",
    "#Second ramicane regimen\n",
    "ram_quartiles = ramicane.quantile([.25,.5,.75])\n",
    "ram_lowerq = ram_quartiles[0.25]\n",
    "ram_upperq = ram_quartiles[0.75]\n",
    "ram_iqr = ram_upperq-ram_lowerq\n",
    "ram_lower_bound = ram_lowerq - (1.5*ram_iqr)\n",
    "ram_upper_bound = ram_upperq + (1.5*ram_iqr)\n",
    "print(f\"The lower quartile of avg tumor volume is: {round(ram_lowerq,2)}\")\n",
    "print(f\"The upper quartile of avg tumor volume is: {round(ram_upperq,2)}\")\n",
    "print(f\"The interquartile range of avg tumor volume is: {round(ram_iqr,2)}\")\n",
    "print(f\"The the median of avg tumor volume is: {round(ram_quartiles[0.5],2)} \")\n",
    "\n",
    "lower_bound = ram_lowerq - (1.5*ram_iqr)\n",
    "upper_bound = ram_upperq + (1.5*ram_iqr)\n",
    "print(f\"Values below {round(ram_lower_bound,2)} could be outliers.\")\n",
    "print(f\"Values above {round(ram_upper_bound,2)} could be outliers.\")\n"
   ]
  },
  {
   "cell_type": "code",
   "execution_count": 102,
   "metadata": {},
   "outputs": [
    {
     "name": "stdout",
     "output_type": "stream",
     "text": [
      "The lower quartile of avg tumor volume is: 54.05\n",
      "The upper quartile of avg tumor volume is: 65.53\n",
      "The interquartile range of avg tumor volume is: 11.48\n",
      "The the median of avg tumor volume is: 60.17 \n",
      "Values below 36.83 could be outliers.\n",
      "Values above 82.74 could be outliers.\n"
     ]
    }
   ],
   "source": [
    "# Calculate the IQR and quantitatively determine if there are any potential outliers. \n",
    "#third infubinol regimen\n",
    "inf_quartiles = infubinol.quantile([.25,.5,.75])\n",
    "inf_lowerq = inf_quartiles[0.25]\n",
    "inf_upperq = inf_quartiles[0.75]\n",
    "inf_iqr = inf_upperq-inf_lowerq\n",
    "inf_lower_bound = inf_lowerq - (1.5*inf_iqr)\n",
    "inf_upper_bound = inf_upperq + (1.5*inf_iqr)\n",
    "print(f\"The lower quartile of avg tumor volume is: {round(inf_lowerq,2)}\")\n",
    "print(f\"The upper quartile of avg tumor volume is: {round(inf_upperq,2)}\")\n",
    "print(f\"The interquartile range of avg tumor volume is: {round(inf_iqr,2)}\")\n",
    "print(f\"The the median of avg tumor volume is: {round(inf_quartiles[0.5],2)} \")\n",
    "\n",
    "lower_bound = inf_lowerq - (1.5*inf_iqr)\n",
    "upper_bound = inf_upperq + (1.5*inf_iqr)\n",
    "print(f\"Values below {round(inf_lower_bound,2)} could be outliers.\")\n",
    "print(f\"Values above {round(inf_upper_bound,2)} could be outliers.\")"
   ]
  },
  {
   "cell_type": "code",
   "execution_count": 103,
   "metadata": {},
   "outputs": [
    {
     "name": "stdout",
     "output_type": "stream",
     "text": [
      "The lower quartile of avg tumor volume is: 48.72\n",
      "The upper quartile of avg tumor volume is: 64.3\n",
      "The interquartile range of avg tumor volume is: 15.58\n",
      "The the median of avg tumor volume is: 59.85 \n",
      "Values below 25.36 could be outliers.\n",
      "Values above 87.67 could be outliers.\n"
     ]
    }
   ],
   "source": [
    "# Calculate the IQR and quantitatively determine if there are any potential outliers.\n",
    "#fourth ceftamin regimen\n",
    "cef_quartiles = ceftamin.quantile([.25,.5,.75])\n",
    "cef_lowerq = cef_quartiles[0.25]\n",
    "cef_upperq = cef_quartiles[0.75]\n",
    "cef_iqr = cef_upperq-cef_lowerq\n",
    "cef_lower_bound = cef_lowerq - (1.5*cef_iqr)\n",
    "cef_upper_bound = cef_upperq + (1.5*cef_iqr)\n",
    "print(f\"The lower quartile of avg tumor volume is: {round(cef_lowerq,2)}\")\n",
    "print(f\"The upper quartile of avg tumor volume is: {round(cef_upperq,2)}\")\n",
    "print(f\"The interquartile range of avg tumor volume is: {round(cef_iqr,2)}\")\n",
    "print(f\"The the median of avg tumor volume is: {round(cef_quartiles[0.5],2)} \")\n",
    "\n",
    "lower_bound = cef_lowerq - (1.5*cef_iqr)\n",
    "upper_bound = cef_upperq + (1.5*cef_iqr)\n",
    "print(f\"Values below {round(cef_lower_bound,2)} could be outliers.\")\n",
    "print(f\"Values above {round(cef_upper_bound,2)} could be outliers.\")"
   ]
  },
  {
   "cell_type": "code",
   "execution_count": 104,
   "metadata": {},
   "outputs": [
    {
     "data": {
      "image/png": "[encoded data removed]",
      "text/plain": [
       "<Figure size 432x288 with 1 Axes>"
      ]
     },
     "metadata": {
      "needs_background": "light"
     },
     "output_type": "display_data"
    }
   ],
   "source": [
    "# Generate a box plot of the final tumor volume of each mouse across four regimens of interest\n",
    "outlier= dict(markerfacecolor='red',markersize=12)\n",
    "plt.boxplot([capomulin,ramicane,infubinol,ceftamin],labels=['Capomulin','Ramicane','Infubinol','Ceftamin'],flierprops=outlier)\n",
    "plt.ylabel('Final Tumor Volume (mm3)')\n",
    "plt.show()"
   ]
  },
  {
   "cell_type": "code",
   "execution_count": 105,
   "metadata": {},
   "outputs": [
    {
     "name": "stdout",
     "output_type": "stream",
     "text": [
      "The value 36.32 could be an outlier.\n"
     ]
    }
   ],
   "source": [
    "#Getting the possible Infubonil outlier\n",
    "inf_outlier=0\n",
    "for x in infubinol.iteritems():\n",
    "    if x[1]<inf_lower_bound:\n",
    "      inf_outlier=(x[1])  \n",
    "print(f\"The value {round(inf_outlier,2)} could be an outlier.\")"
   ]
  },
  {
   "cell_type": "markdown",
   "metadata": {},
   "source": [
    "## Line and scatter plots"
   ]
  },
  {
   "cell_type": "code",
   "execution_count": 80,
   "metadata": {},
   "outputs": [
    {
     "name": "stdout",
     "output_type": "stream",
     "text": [
      "['s185' 'x401' 'm601' 'f966' 'u364' 'y793' 'r554' 'm957' 't565' 'i738'\n",
      " 'w914' 'g288' 'l897' 'b742' 'b128' 'j246' 'j119' 'w150' 'v923' 'g316'\n",
      " 's710' 'l509' 'r944' 'i557' 'r157']\n"
     ]
    }
   ],
   "source": [
    "# Generate a line plot of time point versus tumor volume for a mouse treated with Capomulin\n",
    "#First we just take the rows where the treatment is Capomulin by using .loc\n",
    "capomulin_frame=merged.loc[merged['Drug Regimen']== 'Capomulin']\n",
    "#We create a Series containing all the unique mouse ids for Capomulin treatments\n",
    "mouse_ids=capomulin_frame['Mouse ID'].unique()\n",
    "print(mouse_ids)\n"
   ]
  },
  {
   "cell_type": "code",
   "execution_count": 81,
   "metadata": {},
   "outputs": [
    {
     "name": "stdout",
     "output_type": "stream",
     "text": [
      "Select one of the mouses ID from above l509\n"
     ]
    },
    {
     "data": {
      "image/png": "[encoded data removed]",
      "text/plain": [
       "<Figure size 576x360 with 1 Axes>"
      ]
     },
     "metadata": {
      "needs_background": "light"
     },
     "output_type": "display_data"
    }
   ],
   "source": [
    "#We ask the user to select one of the mouses treated with Capomulin\n",
    "selection=input('Select one of the mouses ID from above ')\n",
    "#And we just get the timepoints and tumor volume info of the mouse id selected by the user\n",
    "time_points=capomulin_frame.loc[capomulin_frame['Mouse ID']== selection, ['Timepoint']]\n",
    "tumor_volume=capomulin_frame.loc[capomulin_frame['Mouse ID']== selection, ['Tumor Volume (mm3)']]\n",
    "plt.figure(figsize=(8,5))\n",
    "plt.plot(time_points,tumor_volume)\n",
    "plt.title(f'Time points vs tumor volume of mouse ID number {selection}')\n",
    "plt.xlabel('Time points')\n",
    "plt.ylabel('Tummor volume in mm3')\n",
    "plt.show()\n"
   ]
  },
  {
   "cell_type": "code",
   "execution_count": 82,
   "metadata": {},
   "outputs": [
    {
     "data": {
      "image/png": "[encoded data removed]",
      "text/plain": [
       "<Figure size 576x360 with 1 Axes>"
      ]
     },
     "metadata": {
      "needs_background": "light"
     },
     "output_type": "display_data"
    }
   ],
   "source": [
    "# Generate a scatter plot of mouse weight versus average tumor volume for the Capomulin regimen\n",
    "capomulin_frame=merged.loc[merged['Drug Regimen']== 'Capomulin']\n",
    "capomulin_grouped=capomulin_frame.groupby('Mouse ID').mean()\n",
    "weight=capomulin_grouped['Weight (g)']\n",
    "volume=capomulin_grouped['Tumor Volume (mm3)']\n",
    "plt.figure(figsize=(8,5))\n",
    "plt.scatter(weight,volume,marker=\"+\", facecolors=\"blue\")\n",
    "plt.title('Avg mouse weight vs Avg tumor volume')\n",
    "plt.xlabel('Weight in grams')\n",
    "plt.ylabel('Tummor volume in mm3')\n",
    "plt.show()"
   ]
  },
  {
   "cell_type": "code",
   "execution_count": 83,
   "metadata": {},
   "outputs": [
    {
     "name": "stdout",
     "output_type": "stream",
     "text": [
      "The correlation between both factors is 0.84\n"
     ]
    }
   ],
   "source": [
    "# Calculate the correlation coefficient and linear regression model for mouse weight and average tumor volume for the Capomulin regimen\n",
    "correlation = st.pearsonr(weight,volume)\n",
    "print(f\"The correlation between both factors is {round(correlation[0],2)}\")"
   ]
  },
  {
   "cell_type": "code",
   "execution_count": 84,
   "metadata": {},
   "outputs": [
    {
     "name": "stdout",
     "output_type": "stream",
     "text": [
      "The ecuation is y=0.95x + 21.55\n"
     ]
    },
    {
     "data": {
      "image/png": "[encoded data removed]",
      "text/plain": [
       "<Figure size 576x360 with 1 Axes>"
      ]
     },
     "metadata": {
      "needs_background": "light"
     },
     "output_type": "display_data"
    }
   ],
   "source": [
    "(slope, intercept, rvalue, pvalue, stderr) = linregress(weight,volume)\n",
    "regress_values = weight * slope + intercept\n",
    "line_eq = \"y = \" + str(round(slope,2)) + \"x + \" + str(round(intercept,2))\n",
    "plt.figure(figsize=(8,5))\n",
    "plt.scatter(weight,volume,marker=\"+\", color='blue')\n",
    "plt.title('Avg mouse weight vs Avg tumor volume')\n",
    "plt.xlabel('Weight in grams')\n",
    "plt.ylabel('Tummor volume in mm3')\n",
    "plt.plot(weight,regress_values,\"r-\")\n",
    "plt.annotate(line_eq,(20,10),fontsize=15,color=\"red\")\n",
    "print(f'The ecuation is y={str(round(slope,2))}x + {str(round(intercept,2))}')"
   ]
  },
  {
   "cell_type": "code",
   "execution_count": null,
   "metadata": {},
   "outputs": [],
   "source": []
  }
 ],
 "metadata": {
  "anaconda-cloud": {},
  "kernelspec": {
   "display_name": "Python 3",
   "language": "python",
   "name": "python3"
  },
  "language_info": {
   "codemirror_mode": {
    "name": "ipython",
    "version": 3
   },
   "file_extension": ".py",
   "mimetype": "text/x-python",
   "name": "python",
   "nbconvert_exporter": "python",
   "pygments_lexer": "ipython3",
   "version": "3.7.4"
  }
 },
 "nbformat": 4,
 "nbformat_minor": 2
}
